{
 "cells": [
  {
   "cell_type": "markdown",
   "metadata": {},
   "source": [
    "# WeatherPy\n",
    "----\n",
    "\n",
    "#### Note\n",
    "* Instructions have been included for each segment. You do not have to follow them exactly, but they are included to help you think through the steps."
   ]
  },
  {
   "cell_type": "code",
   "execution_count": 1,
   "metadata": {
    "scrolled": true
   },
   "outputs": [],
   "source": [
    "# Dependencies and Setup\n",
    "import matplotlib.pyplot as plt\n",
    "import pandas as pd\n",
    "import numpy as np\n",
    "import requests\n",
    "import time\n",
    "import json\n",
    "from scipy.stats import linregress\n",
    "\n",
    "# Import API key\n",
    "from api_keys import weather_api_key\n",
    "\n",
    "# Incorporated citipy to determine city based on latitude and longitude\n",
    "from citipy import citipy\n",
    "\n",
    "# Output File (CSV)\n",
    "output_data_file = \"output_data/cities.csv\"\n",
    "\n",
    "# Range of latitudes and longitudes\n",
    "lat_range = (-90, 90)\n",
    "lng_range = (-180, 180)"
   ]
  },
  {
   "cell_type": "markdown",
   "metadata": {},
   "source": [
    "## Generate Cities List"
   ]
  },
  {
   "cell_type": "code",
   "execution_count": 2,
   "metadata": {},
   "outputs": [
    {
     "data": {
      "text/plain": [
       "608"
      ]
     },
     "execution_count": 2,
     "metadata": {},
     "output_type": "execute_result"
    }
   ],
   "source": [
    "# List for holding lat_lngs and cities\n",
    "lat_lngs = []\n",
    "cities = []\n",
    "\n",
    "# Create a set of random lat and lng combinations\n",
    "lats = np.random.uniform(lat_range[0], lat_range[1], size=1500)\n",
    "lngs = np.random.uniform(lng_range[0], lng_range[1], size=1500)\n",
    "lat_lngs = zip(lats, lngs)\n",
    "\n",
    "# Identify nearest city for each lat, lng combination\n",
    "for lat_lng in lat_lngs:\n",
    "    city = citipy.nearest_city(lat_lng[0], lat_lng[1]).city_name\n",
    "    \n",
    "    # If the city is unique, then add it to a our cities list\n",
    "    if city not in cities:\n",
    "        cities.append(city)\n",
    "\n",
    "# Print the city count to confirm sufficient count\n",
    "len(cities)"
   ]
  },
  {
   "cell_type": "markdown",
   "metadata": {},
   "source": [
    "### Perform API Calls\n",
    "* Perform a weather check on each city using a series of successive API calls.\n",
    "* Include a print log of each city as it's being processed (with the city number and city name).\n"
   ]
  },
  {
   "cell_type": "code",
   "execution_count": 25,
   "metadata": {},
   "outputs": [],
   "source": [
    "def Unitof_Measure():\n",
    "    \n",
    "    measurement_dict = {\n",
    "        \"name\": [\"Kelvin\", \"Celcius\", \"Fahrenheit\"],\n",
    "        \"valid_responses\": [\"k\", \"c\", \"f\"],\n",
    "        \"measurement\": [\"standard\", \"metric\", \"imperial\"]\n",
    "    }\n",
    "\n",
    "    \n",
    "    valid_meas = False\n",
    "        \n",
    "    while valid_meas == False:\n",
    "        \n",
    "        temp_unit = str(input(\"What unit of measure for Temperature would you like to pull (Kelvin, Celcius or Fahrenheit)?  \"))\n",
    "        first_char = temp_unit[0].lower()\n",
    "        \n",
    "        i = 0\n",
    "        for valid in measurement_dict[\"valid_responses\"]:\n",
    "            if first_char == valid:\n",
    "                temp_unit = measurement_dict[\"name\"][i]\n",
    "                str_meas = measurement_dict[\"measurement\"][i]\n",
    "                valid_meas = True\n",
    "                break            \n",
    "            i = i + 1\n",
    "            \n",
    "        if valid_meas == False:\n",
    "            print()\n",
    "            print(\"You did not select a valid unit of measure.\")\n",
    "        \n",
    "        \n",
    "        \n",
    "    return str_meas, temp_unit"
   ]
  },
  {
   "cell_type": "code",
   "execution_count": 27,
   "metadata": {},
   "outputs": [
    {
     "name": "stdout",
     "output_type": "stream",
     "text": [
      "What unit of measure for Temperature would you like to pull (Kelvin, Celcius or Fahrenheit)?  cal\n",
      "\n",
      "You selected Celcius / metric\n"
     ]
    }
   ],
   "source": [
    "unit_info = Unitof_Measure()\n",
    "\n",
    "print()\n",
    "print(f\"You selected {unit_info[1]} / {unit_info[0]}\")\n",
    "\n",
    "\n",
    "\n",
    "#url = \"http://api.openweathermap.org/data/2.5/weather?q=\" + city + \"&appid=\" + weather_api_key + \"&units=\" + unit_info[0]\n",
    "#request = requests.get(url).json()\n",
    "#data = json.dumps(request, indent=4, sort_keys=True)\n",
    "#print()\n",
    "#print(data)"
   ]
  },
  {
   "cell_type": "code",
   "execution_count": 4,
   "metadata": {
    "scrolled": true
   },
   "outputs": [
    {
     "name": "stdout",
     "output_type": "stream",
     "text": [
      "Beginning Data Retrieval\n",
      "-----------------------------\n",
      "Processing record 1 of 631 | saskatoon\n",
      "Processing record 2 of 631 | mar del plata\n",
      "Processing record 3 of 631 | boone\n",
      "Processing record 4 of 631 | vaini\n",
      "Processing record 5 of 631 | churapcha\n",
      "Processing record 6 of 631 | butaritari\n",
      "Processing record 7 of 631 | ushuaia\n",
      "Processing record 8 of 631 | college\n",
      "Processing record 9 of 631 | narsaq\n",
      "Processing record 10 of 631 | jamestown\n",
      "Processing record 11 of 631 | liman\n",
      "Processing record 12 of 631 | atascadero\n",
      "Processing record 13 of 631 | manavgat\n",
      "City not found: amderma,  Skipping...\n",
      "Processing record 15 of 631 | shadrinsk\n",
      "Processing record 16 of 631 | codrington\n",
      "Processing record 17 of 631 | noboribetsu\n",
      "Processing record 18 of 631 | ostrovnoy\n",
      "Processing record 19 of 631 | kapaa\n",
      "Processing record 20 of 631 | qaanaaq\n",
      "Processing record 21 of 631 | yellowknife\n",
      "Processing record 22 of 631 | saskylakh\n",
      "Processing record 23 of 631 | hofn\n",
      "Processing record 24 of 631 | bac lieu\n",
      "Processing record 25 of 631 | georgetown\n",
      "Processing record 26 of 631 | portland\n",
      "Processing record 27 of 631 | rincon\n",
      "Processing record 28 of 631 | rikitea\n",
      "Processing record 29 of 631 | talnakh\n",
      "Processing record 30 of 631 | grindavik\n",
      "Processing record 31 of 631 | upernavik\n",
      "City not found: barentsburg,  Skipping...\n",
      "City not found: kadykchan,  Skipping...\n",
      "Processing record 34 of 631 | saint-philippe\n",
      "Processing record 35 of 631 | kefalos\n",
      "Processing record 36 of 631 | tuktoyaktuk\n",
      "Processing record 37 of 631 | sitka\n",
      "Processing record 38 of 631 | asosa\n",
      "Processing record 39 of 631 | east london\n",
      "Processing record 40 of 631 | atuona\n",
      "Processing record 41 of 631 | mackay\n",
      "Processing record 42 of 631 | rozkishne\n",
      "Processing record 43 of 631 | mahebourg\n",
      "Processing record 44 of 631 | half moon bay\n",
      "Processing record 45 of 631 | tasiilaq\n",
      "Processing record 46 of 631 | cuajinicuilapa\n",
      "Processing record 47 of 631 | busselton\n",
      "Processing record 48 of 631 | ahipara\n",
      "Processing record 49 of 631 | hilo\n",
      "Processing record 50 of 631 | kodiak\n",
      "City not found: zyryanovskiy,  Skipping...\n",
      "Processing record 52 of 631 | udimskiy\n",
      "Processing record 53 of 631 | kota kinabalu\n",
      "Processing record 54 of 631 | cape town\n",
      "Processing record 55 of 631 | barrow\n",
      "Processing record 56 of 631 | jumla\n",
      "Processing record 57 of 631 | albany\n",
      "Processing record 58 of 631 | nassjo\n",
      "Processing record 59 of 631 | assiniboia\n",
      "Processing record 60 of 631 | saldanha\n",
      "Processing record 61 of 631 | port alfred\n",
      "Processing record 62 of 631 | avarua\n",
      "Processing record 63 of 631 | trinidad\n",
      "Processing record 64 of 631 | mataura\n",
      "Processing record 65 of 631 | kajaani\n",
      "Processing record 66 of 631 | marrakesh\n",
      "Processing record 67 of 631 | jales\n",
      "Processing record 68 of 631 | hobart\n",
      "Processing record 69 of 631 | port elizabeth\n",
      "Processing record 70 of 631 | salalah\n",
      "Processing record 71 of 631 | danville\n",
      "Processing record 72 of 631 | vilhena\n",
      "Processing record 73 of 631 | coahuayana\n",
      "Processing record 74 of 631 | porto-vecchio\n",
      "Processing record 75 of 631 | chuy\n",
      "Processing record 76 of 631 | tomatlan\n",
      "City not found: marcona,  Skipping...\n",
      "City not found: katsiveli,  Skipping...\n",
      "Processing record 79 of 631 | beidao\n",
      "Processing record 80 of 631 | pointe-noire\n",
      "Processing record 81 of 631 | barra do garcas\n",
      "Processing record 82 of 631 | hermanus\n",
      "Processing record 83 of 631 | havre\n",
      "Processing record 84 of 631 | sao filipe\n",
      "Processing record 85 of 631 | vardo\n",
      "Processing record 86 of 631 | kavieng\n",
      "Processing record 87 of 631 | lagoa\n",
      "City not found: illoqqortoormiut,  Skipping...\n",
      "Processing record 89 of 631 | quelimane\n",
      "Processing record 90 of 631 | sesheke\n",
      "Processing record 91 of 631 | conakry\n",
      "Processing record 92 of 631 | thompson\n",
      "Processing record 93 of 631 | puerto ayora\n",
      "Processing record 94 of 631 | luderitz\n",
      "Processing record 95 of 631 | geraldton\n",
      "Processing record 96 of 631 | deyang\n",
      "City not found: taolanaro,  Skipping...\n",
      "Processing record 98 of 631 | kincardine\n",
      "Processing record 99 of 631 | severo-kurilsk\n",
      "City not found: yefira,  Skipping...\n",
      "Processing record 101 of 631 | new norfolk\n",
      "Processing record 102 of 631 | bijie\n",
      "Processing record 103 of 631 | cockburn town\n",
      "Processing record 104 of 631 | arlit\n",
      "Processing record 105 of 631 | karacakoy\n",
      "Processing record 106 of 631 | goderich\n",
      "Processing record 107 of 631 | dawson creek\n",
      "Processing record 108 of 631 | bambous virieux\n",
      "Processing record 109 of 631 | ribeira grande\n",
      "Processing record 110 of 631 | srednekolymsk\n",
      "Processing record 111 of 631 | valparaiso\n",
      "Processing record 112 of 631 | ilulissat\n",
      "Processing record 113 of 631 | udachnyy\n",
      "Processing record 114 of 631 | fare\n",
      "City not found: vaitupu,  Skipping...\n",
      "Processing record 116 of 631 | punta arenas\n",
      "Processing record 117 of 631 | palmas bellas\n",
      "City not found: tarudant,  Skipping...\n",
      "City not found: louisbourg,  Skipping...\n",
      "Processing record 120 of 631 | barinas\n",
      "Processing record 121 of 631 | khatanga\n",
      "Processing record 122 of 631 | yerky\n",
      "Processing record 123 of 631 | gazanjyk\n",
      "Processing record 124 of 631 | maniitsoq\n",
      "Processing record 125 of 631 | hualmay\n",
      "Processing record 126 of 631 | ekhabi\n",
      "Processing record 127 of 631 | camacha\n",
      "Processing record 128 of 631 | cabatuan\n",
      "Processing record 129 of 631 | burayevo\n",
      "Processing record 130 of 631 | menongue\n",
      "Processing record 131 of 631 | annemasse\n",
      "Processing record 132 of 631 | cayenne\n",
      "Processing record 133 of 631 | juneau\n",
      "Processing record 134 of 631 | bengkulu\n",
      "Processing record 135 of 631 | nikolskoye\n",
      "Processing record 136 of 631 | constitucion\n",
      "Processing record 137 of 631 | cabo san lucas\n",
      "Processing record 138 of 631 | beringovskiy\n",
      "Processing record 139 of 631 | novouzensk\n",
      "Processing record 140 of 631 | pevek\n",
      "Processing record 141 of 631 | korla\n",
      "Processing record 142 of 631 | banda aceh\n",
      "Processing record 143 of 631 | san policarpo\n",
      "Processing record 144 of 631 | bilma\n",
      "Processing record 145 of 631 | buraydah\n",
      "Processing record 146 of 631 | normandin\n",
      "Processing record 147 of 631 | leningradskiy\n",
      "Processing record 148 of 631 | ola\n",
      "City not found: umzimvubu,  Skipping...\n",
      "Processing record 150 of 631 | shingu\n",
      "Processing record 151 of 631 | vulcan\n",
      "Processing record 152 of 631 | bredasdorp\n",
      "Processing record 153 of 631 | dikson\n",
      "Processing record 154 of 631 | tessalit\n",
      "Processing record 155 of 631 | vestmannaeyjar\n",
      "Processing record 156 of 631 | sobolevo\n",
      "Processing record 157 of 631 | hailun\n",
      "Processing record 158 of 631 | taoudenni\n",
      "Processing record 159 of 631 | nome\n",
      "Processing record 160 of 631 | makakilo city\n",
      "Processing record 161 of 631 | wanning\n",
      "City not found: tsihombe,  Skipping...\n",
      "Processing record 163 of 631 | pedernales\n",
      "Processing record 164 of 631 | ulladulla\n",
      "Processing record 165 of 631 | lebu\n",
      "City not found: wahran,  Skipping...\n",
      "Processing record 167 of 631 | airai\n",
      "Processing record 168 of 631 | mehamn\n",
      "Processing record 169 of 631 | urengoy\n",
      "Processing record 170 of 631 | klaksvik\n",
      "Processing record 171 of 631 | itoman\n",
      "Processing record 172 of 631 | batticaloa\n",
      "Processing record 173 of 631 | puerto baquerizo moreno\n",
      "Processing record 174 of 631 | katsuura\n",
      "Processing record 175 of 631 | boden\n",
      "Processing record 176 of 631 | hami\n",
      "Processing record 177 of 631 | verkhnyaya toyma\n",
      "Processing record 178 of 631 | kangaatsiaq\n",
      "Processing record 179 of 631 | klyuchi\n",
      "Processing record 180 of 631 | victoria\n",
      "Processing record 181 of 631 | roanoke rapids\n",
      "Processing record 182 of 631 | waingapu\n",
      "Processing record 183 of 631 | tura\n",
      "Processing record 184 of 631 | ornskoldsvik\n",
      "Processing record 185 of 631 | adrar\n",
      "Processing record 186 of 631 | sakakah\n",
      "Processing record 187 of 631 | altdorf\n",
      "Processing record 188 of 631 | arraial do cabo\n",
      "Processing record 189 of 631 | sidi ali\n",
      "Processing record 190 of 631 | dingle\n",
      "Processing record 191 of 631 | carnarvon\n",
      "Processing record 192 of 631 | namibe\n",
      "Processing record 193 of 631 | bluff\n",
      "Processing record 194 of 631 | tiksi\n",
      "City not found: nizhneyansk,  Skipping...\n",
      "Processing record 196 of 631 | grand-santi\n",
      "Processing record 197 of 631 | dembi dolo\n",
      "Processing record 198 of 631 | palasbari\n",
      "Processing record 199 of 631 | tiarei\n",
      "Processing record 200 of 631 | dvorichna\n",
      "Processing record 201 of 631 | ust-omchug\n",
      "Processing record 202 of 631 | yerbogachen\n",
      "Processing record 203 of 631 | sawakin\n",
      "Processing record 204 of 631 | chabahar\n"
     ]
    },
    {
     "name": "stdout",
     "output_type": "stream",
     "text": [
      "City not found: mocambique,  Skipping...\n",
      "Processing record 206 of 631 | sao joao da barra\n",
      "Processing record 207 of 631 | bintulu\n",
      "Processing record 208 of 631 | yulara\n",
      "Processing record 209 of 631 | castro\n",
      "Processing record 210 of 631 | mangrol\n",
      "Processing record 211 of 631 | agadir\n",
      "City not found: meyungs,  Skipping...\n",
      "Processing record 213 of 631 | kaeo\n",
      "Processing record 214 of 631 | nantucket\n",
      "Processing record 215 of 631 | tupik\n",
      "Processing record 216 of 631 | rongcheng\n",
      "Processing record 217 of 631 | grand-lahou\n",
      "Processing record 218 of 631 | zambezi\n",
      "Processing record 219 of 631 | saint-francois\n",
      "Processing record 220 of 631 | kasongo-lunda\n",
      "Processing record 221 of 631 | hithadhoo\n",
      "Processing record 222 of 631 | margate\n",
      "Processing record 223 of 631 | alcamo\n",
      "Processing record 224 of 631 | sri aman\n",
      "Processing record 225 of 631 | kopavogur\n",
      "Processing record 226 of 631 | marsa matruh\n",
      "Processing record 227 of 631 | naushki\n",
      "Processing record 228 of 631 | deputatskiy\n",
      "Processing record 229 of 631 | visby\n",
      "Processing record 230 of 631 | mukhen\n",
      "City not found: ngukurr,  Skipping...\n",
      "Processing record 232 of 631 | chokurdakh\n",
      "Processing record 233 of 631 | cidreira\n",
      "Processing record 234 of 631 | lompoc\n",
      "City not found: quetzaltepec,  Skipping...\n",
      "Processing record 236 of 631 | nieuw nickerie\n",
      "Processing record 237 of 631 | harlingen\n",
      "Processing record 238 of 631 | hurghada\n",
      "Processing record 239 of 631 | krasnoselkup\n",
      "Processing record 240 of 631 | cherskiy\n",
      "Processing record 241 of 631 | griffith\n",
      "Processing record 242 of 631 | dakar\n",
      "Processing record 243 of 631 | chupa\n",
      "Processing record 244 of 631 | anadyr\n",
      "City not found: grand river south east,  Skipping...\n",
      "Processing record 246 of 631 | araguari\n",
      "City not found: tabialan,  Skipping...\n",
      "Processing record 248 of 631 | roma\n",
      "Processing record 249 of 631 | labrea\n",
      "Processing record 250 of 631 | tromso\n",
      "Processing record 251 of 631 | port-cartier\n",
      "City not found: attawapiskat,  Skipping...\n",
      "Processing record 253 of 631 | maceio\n",
      "Processing record 254 of 631 | sangmelima\n",
      "Processing record 255 of 631 | sedro-woolley\n",
      "Processing record 256 of 631 | horki\n",
      "Processing record 257 of 631 | sakaiminato\n",
      "Processing record 258 of 631 | uchiza\n",
      "Processing record 259 of 631 | nizhniy tsasuchey\n",
      "Processing record 260 of 631 | havoysund\n",
      "Processing record 261 of 631 | aksu\n",
      "Processing record 262 of 631 | los alamos\n",
      "Processing record 263 of 631 | faanui\n",
      "Processing record 264 of 631 | ghanzi\n",
      "Processing record 265 of 631 | iqaluit\n",
      "Processing record 266 of 631 | guayaramerin\n",
      "Processing record 267 of 631 | faya\n",
      "Processing record 268 of 631 | gold coast\n",
      "Processing record 269 of 631 | esik\n",
      "Processing record 270 of 631 | lata\n",
      "Processing record 271 of 631 | maumere\n",
      "Processing record 272 of 631 | baracoa\n",
      "Processing record 273 of 631 | samarai\n",
      "Processing record 274 of 631 | grand gaube\n",
      "Processing record 275 of 631 | catamarca\n",
      "Processing record 276 of 631 | san jose\n",
      "Processing record 277 of 631 | aklavik\n",
      "Processing record 278 of 631 | atar\n",
      "Processing record 279 of 631 | dzhebariki-khaya\n",
      "Processing record 280 of 631 | lavrentiya\n",
      "Processing record 281 of 631 | port lincoln\n",
      "Processing record 282 of 631 | pahasu\n",
      "Processing record 283 of 631 | kolondieba\n",
      "Processing record 284 of 631 | vila velha\n",
      "Processing record 285 of 631 | longyearbyen\n",
      "City not found: karaul,  Skipping...\n",
      "Processing record 287 of 631 | ust-nera\n",
      "Processing record 288 of 631 | buala\n",
      "Processing record 289 of 631 | henties bay\n",
      "Processing record 290 of 631 | yarmouth\n",
      "Processing record 291 of 631 | viseu\n",
      "Processing record 292 of 631 | inhambane\n",
      "Processing record 293 of 631 | pavlohrad\n",
      "Processing record 294 of 631 | keetmanshoop\n",
      "Processing record 295 of 631 | kavaratti\n",
      "City not found: saleaula,  Skipping...\n",
      "Processing record 297 of 631 | maragogi\n",
      "Processing record 298 of 631 | katsina\n",
      "Processing record 299 of 631 | norman wells\n",
      "Processing record 300 of 631 | puri\n",
      "Processing record 301 of 631 | remontnoye\n",
      "City not found: belushya guba,  Skipping...\n",
      "Processing record 303 of 631 | tevaitoa\n",
      "Processing record 304 of 631 | kruisfontein\n",
      "Processing record 305 of 631 | brae\n",
      "Processing record 306 of 631 | aasiaat\n",
      "Processing record 307 of 631 | altamira\n",
      "Processing record 308 of 631 | seaside\n",
      "Processing record 309 of 631 | yamachiche\n",
      "Processing record 310 of 631 | jalu\n",
      "Processing record 311 of 631 | derzhavinsk\n",
      "Processing record 312 of 631 | meghri\n",
      "Processing record 313 of 631 | ejura\n",
      "Processing record 314 of 631 | gravelbourg\n",
      "Processing record 315 of 631 | terrace\n",
      "Processing record 316 of 631 | maxixe\n",
      "Processing record 317 of 631 | kahului\n",
      "Processing record 318 of 631 | dalbandin\n",
      "Processing record 319 of 631 | smirnykh\n",
      "Processing record 320 of 631 | ketchikan\n",
      "Processing record 321 of 631 | magole\n",
      "Processing record 322 of 631 | san pedro\n",
      "Processing record 323 of 631 | torbay\n",
      "Processing record 324 of 631 | bandarbeyla\n",
      "Processing record 325 of 631 | ballina\n",
      "City not found: solsvik,  Skipping...\n",
      "Processing record 327 of 631 | almaznyy\n",
      "Processing record 328 of 631 | kudahuvadhoo\n",
      "Processing record 329 of 631 | verkhnyaya inta\n",
      "Processing record 330 of 631 | roald\n",
      "Processing record 331 of 631 | hovd\n",
      "Processing record 332 of 631 | gravdal\n",
      "City not found: siare,  Skipping...\n",
      "Processing record 334 of 631 | vila franca do campo\n",
      "Processing record 335 of 631 | broken hill\n",
      "Processing record 336 of 631 | owando\n",
      "Processing record 337 of 631 | champerico\n",
      "Processing record 338 of 631 | moron\n",
      "Processing record 339 of 631 | marzuq\n",
      "City not found: lar gerd,  Skipping...\n",
      "Processing record 341 of 631 | paso de carrasco\n",
      "Processing record 342 of 631 | achutupo\n",
      "Processing record 343 of 631 | bereznik\n",
      "Processing record 344 of 631 | kralendijk\n",
      "Processing record 345 of 631 | burns lake\n",
      "Processing record 346 of 631 | la cumbre\n",
      "Processing record 347 of 631 | lusambo\n",
      "Processing record 348 of 631 | jilove\n",
      "Processing record 349 of 631 | martinsburg\n",
      "Processing record 350 of 631 | opuwo\n",
      "Processing record 351 of 631 | baruun-urt\n",
      "City not found: sedelnikovo,  Skipping...\n",
      "Processing record 353 of 631 | vestmanna\n",
      "Processing record 354 of 631 | ojo caliente\n",
      "Processing record 355 of 631 | sumter\n",
      "Processing record 356 of 631 | huarmey\n",
      "Processing record 357 of 631 | atami\n",
      "Processing record 358 of 631 | portobelo\n",
      "Processing record 359 of 631 | mont-dore\n",
      "Processing record 360 of 631 | vanimo\n",
      "Processing record 361 of 631 | port keats\n",
      "City not found: mys shmidta,  Skipping...\n",
      "City not found: palabuhanratu,  Skipping...\n",
      "Processing record 364 of 631 | port-gentil\n",
      "Processing record 365 of 631 | chuguyevka\n",
      "Processing record 366 of 631 | kologriv\n",
      "City not found: stoyba,  Skipping...\n",
      "Processing record 368 of 631 | atasu\n",
      "Processing record 369 of 631 | grenaa\n",
      "Processing record 370 of 631 | alofi\n",
      "Processing record 371 of 631 | ploemeur\n",
      "Processing record 372 of 631 | yar-sale\n",
      "Processing record 373 of 631 | isangel\n",
      "Processing record 374 of 631 | george\n",
      "Processing record 375 of 631 | kenai\n",
      "Processing record 376 of 631 | aljezur\n",
      "Processing record 377 of 631 | huaihua\n",
      "Processing record 378 of 631 | kaputa\n",
      "Processing record 379 of 631 | mounana\n",
      "Processing record 380 of 631 | padang\n",
      "City not found: inderborskiy,  Skipping...\n",
      "Processing record 382 of 631 | auki\n",
      "Processing record 383 of 631 | freeport\n",
      "Processing record 384 of 631 | ermelo\n",
      "Processing record 385 of 631 | wexford\n",
      "Processing record 386 of 631 | bethel\n",
      "Processing record 387 of 631 | logan\n",
      "Processing record 388 of 631 | pisco\n",
      "City not found: ust-kamchatsk,  Skipping...\n",
      "City not found: sentyabrskiy,  Skipping...\n",
      "Processing record 391 of 631 | broome\n",
      "Processing record 392 of 631 | kieta\n",
      "Processing record 393 of 631 | mayo\n",
      "Processing record 394 of 631 | aksarka\n",
      "Processing record 395 of 631 | at-bashi\n",
      "Processing record 396 of 631 | kanker\n",
      "Processing record 397 of 631 | yinchuan\n",
      "Processing record 398 of 631 | saint anthony\n",
      "Processing record 399 of 631 | odweyne\n",
      "Processing record 400 of 631 | cap malheureux\n",
      "Processing record 401 of 631 | havre-saint-pierre\n",
      "Processing record 402 of 631 | old town\n",
      "Processing record 403 of 631 | genc\n",
      "Processing record 404 of 631 | caravelas\n",
      "Processing record 405 of 631 | chvaletice\n",
      "Processing record 406 of 631 | jardim\n",
      "Processing record 407 of 631 | itacare\n",
      "Processing record 408 of 631 | locri\n"
     ]
    },
    {
     "name": "stdout",
     "output_type": "stream",
     "text": [
      "Processing record 409 of 631 | kambarka\n",
      "Processing record 410 of 631 | komsomolskiy\n",
      "Processing record 411 of 631 | kirakira\n",
      "Processing record 412 of 631 | shubarshi\n",
      "Processing record 413 of 631 | penzance\n",
      "Processing record 414 of 631 | yenagoa\n",
      "Processing record 415 of 631 | beshpagir\n",
      "Processing record 416 of 631 | barahona\n",
      "Processing record 417 of 631 | avanigadda\n",
      "City not found: hihifo,  Skipping...\n",
      "Processing record 419 of 631 | asau\n",
      "Processing record 420 of 631 | fayetteville\n",
      "Processing record 421 of 631 | ascension\n",
      "Processing record 422 of 631 | pembroke\n",
      "Processing record 423 of 631 | birjand\n",
      "Processing record 424 of 631 | linhares\n",
      "Processing record 425 of 631 | brigantine\n",
      "City not found: katha,  Skipping...\n",
      "Processing record 427 of 631 | talcahuano\n",
      "Processing record 428 of 631 | diamantino\n",
      "Processing record 429 of 631 | wanaka\n",
      "Processing record 430 of 631 | suluktu\n",
      "Processing record 431 of 631 | plettenberg bay\n",
      "Processing record 432 of 631 | salem\n",
      "Processing record 433 of 631 | garowe\n",
      "Processing record 434 of 631 | fengrun\n",
      "Processing record 435 of 631 | belmonte\n",
      "Processing record 436 of 631 | bauchi\n",
      "Processing record 437 of 631 | voyvozh\n",
      "Processing record 438 of 631 | dongsheng\n",
      "City not found: lolua,  Skipping...\n",
      "Processing record 440 of 631 | tari\n",
      "Processing record 441 of 631 | namyslow\n",
      "Processing record 442 of 631 | voznesenye\n",
      "City not found: karkaralinsk,  Skipping...\n",
      "Processing record 444 of 631 | bismil\n",
      "Processing record 445 of 631 | pangody\n",
      "Processing record 446 of 631 | hambantota\n",
      "Processing record 447 of 631 | saint-augustin\n",
      "Processing record 448 of 631 | sorland\n",
      "Processing record 449 of 631 | ayorou\n",
      "Processing record 450 of 631 | elk city\n",
      "Processing record 451 of 631 | madzhalis\n",
      "Processing record 452 of 631 | teeli\n",
      "Processing record 453 of 631 | fukue\n",
      "City not found: saint-pacome,  Skipping...\n",
      "Processing record 455 of 631 | zyryanka\n",
      "Processing record 456 of 631 | kaitangata\n",
      "Processing record 457 of 631 | rocha\n",
      "City not found: yunjinghong,  Skipping...\n",
      "Processing record 459 of 631 | colares\n",
      "Processing record 460 of 631 | axim\n",
      "Processing record 461 of 631 | lubumbashi\n",
      "Processing record 462 of 631 | watrous\n",
      "Processing record 463 of 631 | businga\n",
      "Processing record 464 of 631 | shimoda\n",
      "Processing record 465 of 631 | fez\n",
      "Processing record 466 of 631 | umm lajj\n",
      "Processing record 467 of 631 | agadez\n",
      "Processing record 468 of 631 | aykhal\n",
      "Processing record 469 of 631 | obo\n",
      "Processing record 470 of 631 | goodyear\n",
      "Processing record 471 of 631 | skeldon\n",
      "Processing record 472 of 631 | tanout\n",
      "Processing record 473 of 631 | namatanai\n",
      "Processing record 474 of 631 | port hedland\n",
      "Processing record 475 of 631 | imbituba\n",
      "Processing record 476 of 631 | hasaki\n",
      "City not found: west bridgeford,  Skipping...\n",
      "Processing record 478 of 631 | husavik\n",
      "Processing record 479 of 631 | sao jose da coroa grande\n",
      "Processing record 480 of 631 | saint george\n",
      "Processing record 481 of 631 | tampin\n",
      "Processing record 482 of 631 | luganville\n",
      "Processing record 483 of 631 | taltal\n",
      "Processing record 484 of 631 | sambava\n",
      "Processing record 485 of 631 | ancud\n",
      "Processing record 486 of 631 | vao\n",
      "Processing record 487 of 631 | mount isa\n",
      "Processing record 488 of 631 | nebbi\n",
      "Processing record 489 of 631 | vertientes\n",
      "Processing record 490 of 631 | mongoumba\n",
      "Processing record 491 of 631 | saint john\n",
      "Processing record 492 of 631 | gafargaon\n",
      "Processing record 493 of 631 | nanortalik\n",
      "City not found: visimo-utkinsk,  Skipping...\n",
      "Processing record 495 of 631 | osakarovka\n",
      "Processing record 496 of 631 | saint-joseph\n",
      "Processing record 497 of 631 | la palma\n",
      "City not found: westpunt,  Skipping...\n",
      "Processing record 499 of 631 | port blair\n",
      "Processing record 500 of 631 | avera\n",
      "Processing record 501 of 631 | hoquiam\n",
      "Processing record 502 of 631 | schwerin\n",
      "Processing record 503 of 631 | naberera\n",
      "City not found: zachagansk,  Skipping...\n",
      "City not found: labutta,  Skipping...\n",
      "Processing record 506 of 631 | swan river\n",
      "Processing record 507 of 631 | chapais\n",
      "Processing record 508 of 631 | matara\n",
      "Processing record 509 of 631 | vostok\n",
      "Processing record 510 of 631 | astoria\n",
      "Processing record 511 of 631 | lubango\n",
      "Processing record 512 of 631 | chambersburg\n",
      "Processing record 513 of 631 | piacabucu\n",
      "Processing record 514 of 631 | iskateley\n",
      "Processing record 515 of 631 | paracuru\n",
      "City not found: temaraia,  Skipping...\n",
      "Processing record 517 of 631 | souillac\n",
      "Processing record 518 of 631 | mocuba\n",
      "Processing record 519 of 631 | domoni\n",
      "Processing record 520 of 631 | lorengau\n",
      "Processing record 521 of 631 | ahar\n",
      "Processing record 522 of 631 | north myrtle beach\n",
      "Processing record 523 of 631 | bonavista\n",
      "Processing record 524 of 631 | san rafael del sur\n",
      "Processing record 525 of 631 | fairbanks\n",
      "Processing record 526 of 631 | hendek\n",
      "Processing record 527 of 631 | monroe\n",
      "Processing record 528 of 631 | tual\n",
      "Processing record 529 of 631 | shiozawa\n",
      "Processing record 530 of 631 | carbondale\n",
      "Processing record 531 of 631 | mount gambier\n",
      "Processing record 532 of 631 | dolores\n",
      "Processing record 533 of 631 | santa rosa\n",
      "Processing record 534 of 631 | fort frances\n",
      "Processing record 535 of 631 | atbasar\n",
      "Processing record 536 of 631 | berdigestyakh\n",
      "City not found: samusu,  Skipping...\n",
      "Processing record 538 of 631 | comodoro rivadavia\n",
      "Processing record 539 of 631 | palauig\n",
      "Processing record 540 of 631 | fortuna\n",
      "Processing record 541 of 631 | bilibino\n",
      "Processing record 542 of 631 | turukhansk\n",
      "Processing record 543 of 631 | sinnamary\n",
      "Processing record 544 of 631 | siverek\n",
      "Processing record 545 of 631 | manzanillo\n",
      "Processing record 546 of 631 | ankang\n",
      "Processing record 547 of 631 | varzea da palma\n",
      "Processing record 548 of 631 | nizwa\n",
      "Processing record 549 of 631 | tiznit\n",
      "Processing record 550 of 631 | mizusawa\n",
      "Processing record 551 of 631 | kanniyakumari\n",
      "Processing record 552 of 631 | cape girardeau\n",
      "Processing record 553 of 631 | cairo montenotte\n",
      "Processing record 554 of 631 | winnemucca\n",
      "Processing record 555 of 631 | semirom\n",
      "Processing record 556 of 631 | leirvik\n",
      "Processing record 557 of 631 | tuatapere\n",
      "Processing record 558 of 631 | pangnirtung\n",
      "Processing record 559 of 631 | cangucu\n",
      "Processing record 560 of 631 | morgan city\n",
      "Processing record 561 of 631 | yurty\n",
      "Processing record 562 of 631 | kondagaon\n",
      "Processing record 563 of 631 | abu dhabi\n",
      "Processing record 564 of 631 | kualakapuas\n",
      "Processing record 565 of 631 | indian head\n",
      "Processing record 566 of 631 | the valley\n",
      "City not found: rawannawi,  Skipping...\n",
      "Processing record 568 of 631 | killybegs\n",
      "Processing record 569 of 631 | chara\n",
      "Processing record 570 of 631 | sasovo\n",
      "Processing record 571 of 631 | buenaventura\n",
      "Processing record 572 of 631 | masallatah\n",
      "Processing record 573 of 631 | provideniya\n",
      "Processing record 574 of 631 | muli\n",
      "Processing record 575 of 631 | nemuro\n",
      "Processing record 576 of 631 | tafresh\n",
      "Processing record 577 of 631 | blackwater\n",
      "Processing record 578 of 631 | carutapera\n",
      "Processing record 579 of 631 | okha\n",
      "Processing record 580 of 631 | clyde river\n",
      "Processing record 581 of 631 | prieska\n",
      "City not found: tasbuget,  Skipping...\n",
      "Processing record 583 of 631 | kamina\n",
      "Processing record 584 of 631 | petropavlovsk-kamchatskiy\n",
      "Processing record 585 of 631 | garden city\n",
      "Processing record 586 of 631 | port hardy\n",
      "Processing record 587 of 631 | burnie\n",
      "Processing record 588 of 631 | dunedin\n",
      "City not found: skalistyy,  Skipping...\n",
      "Processing record 590 of 631 | naze\n",
      "Processing record 591 of 631 | san vicente de canete\n",
      "Processing record 592 of 631 | soyo\n",
      "Processing record 593 of 631 | kichera\n",
      "Processing record 594 of 631 | ambilobe\n",
      "Processing record 595 of 631 | tigil\n",
      "Processing record 596 of 631 | westport\n",
      "Processing record 597 of 631 | contamana\n",
      "Processing record 598 of 631 | serov\n",
      "Processing record 599 of 631 | jambi\n",
      "Processing record 600 of 631 | finschhafen\n",
      "City not found: jubayl,  Skipping...\n",
      "Processing record 602 of 631 | joshimath\n",
      "Processing record 603 of 631 | charters towers\n",
      "Processing record 604 of 631 | male\n",
      "Processing record 605 of 631 | neuquen\n",
      "Processing record 606 of 631 | kysyl-syr\n",
      "Processing record 607 of 631 | moose factory\n",
      "Processing record 608 of 631 | longonjo\n",
      "Processing record 609 of 631 | popondetta\n",
      "Processing record 610 of 631 | kumluca\n",
      "Processing record 611 of 631 | shenjiamen\n"
     ]
    },
    {
     "name": "stdout",
     "output_type": "stream",
     "text": [
      "City not found: cah ab,  Skipping...\n",
      "Processing record 613 of 631 | lakatoro\n",
      "Processing record 614 of 631 | anshun\n",
      "City not found: chengmai,  Skipping...\n",
      "Processing record 616 of 631 | bodden town\n",
      "Processing record 617 of 631 | nelson bay\n",
      "Processing record 618 of 631 | panaba\n",
      "Processing record 619 of 631 | ponta do sol\n",
      "Processing record 620 of 631 | nouadhibou\n",
      "Processing record 621 of 631 | mani\n",
      "Processing record 622 of 631 | gujar khan\n",
      "Processing record 623 of 631 | kloulklubed\n",
      "Processing record 624 of 631 | los llanos de aridane\n",
      "Processing record 625 of 631 | kitimat\n",
      "Processing record 626 of 631 | saint-pierre\n",
      "Processing record 627 of 631 | kungurtug\n",
      "Processing record 628 of 631 | bubaque\n",
      "Processing record 629 of 631 | north bend\n",
      "Processing record 630 of 631 | lesogorsk\n",
      "Processing record 631 of 631 | verkhnevilyuysk\n",
      "\n",
      "\n",
      "\n",
      "\n",
      "The list of cities not found in the API is called 'cities_notlisted.'\n",
      "The following are the cities in that list:\n",
      "1: city\n",
      "2: city\n",
      "3: city\n",
      "4: city\n",
      "5: city\n",
      "6: city\n",
      "7: city\n",
      "8: city\n",
      "9: city\n",
      "10: city\n",
      "11: city\n",
      "12: city\n",
      "13: city\n",
      "14: city\n",
      "15: city\n",
      "16: city\n",
      "17: city\n",
      "18: city\n",
      "19: city\n",
      "20: city\n",
      "21: city\n",
      "22: city\n",
      "23: city\n",
      "24: city\n",
      "25: city\n",
      "26: city\n",
      "27: city\n",
      "28: city\n",
      "29: city\n",
      "30: city\n",
      "31: city\n",
      "32: city\n",
      "33: city\n",
      "34: city\n",
      "35: city\n",
      "36: city\n",
      "37: city\n",
      "38: city\n",
      "39: city\n",
      "40: city\n",
      "41: city\n",
      "42: city\n",
      "43: city\n",
      "44: city\n",
      "45: city\n",
      "46: city\n",
      "47: city\n",
      "48: city\n",
      "49: city\n",
      "50: city\n",
      "51: city\n",
      "52: city\n",
      "53: city\n",
      "54: city\n",
      "55: city\n"
     ]
    }
   ],
   "source": [
    "### This will take about 10 minutes to run.  To skip this step in future openings skip the next two 'In'\n",
    "### and read the data from the already created CSV.\n",
    "\n",
    "# Empty dictionary that the API pull can append to.\n",
    "city_dict = {\n",
    "    \"city\": [],\n",
    "    \"cloudiness\": [],\n",
    "    \"country\": [],\n",
    "    \"date\": [],\n",
    "    \"humidity\": [],\n",
    "    \"lat\": [],\n",
    "    \"lng\": [],\n",
    "    \"max_temp\": [],\n",
    "    \"wind_speed\": []}\n",
    "\n",
    "print()\n",
    "temp_unit = {unit_info[0]}\n",
    "print()\n",
    "print(f\"You selected {unit_info[1]} / {unit_info[0]}\")\n",
    "print()\n",
    "print()\n",
    "print(f\"Beginning Data Retrieval\")\n",
    "print(\"-----------------------------\")\n",
    "\n",
    "\n",
    "## Edit this to change list\n",
    "city_list = cities\n",
    "\n",
    "cities_notlisted = []\n",
    "\n",
    "#Count of cities\n",
    "countof_list = len(city_list)\n",
    "\n",
    "for index, city in enumerate(city_list):\n",
    "    \n",
    "    url = \"http://api.openweathermap.org/data/2.5/weather?q=\" + city + \"&appid=\" + weather_api_key + \"&units=\" + temp_unit\n",
    "    request = requests.get(url).json()\n",
    "    \n",
    "    if request[\"cod\"] == \"404\":\n",
    "        print(f\"City not found: {city},  Skipping...\")\n",
    "        cities_notlisted.append(city)\n",
    "        continue\n",
    "    \n",
    "    \n",
    "    print(f\"Processing record {index + 1} of {countof_list} | {city}\")\n",
    "    \n",
    "    city_dict[\"city\"].append(request[\"name\"]) \n",
    "    city_dict[\"cloudiness\"].append(request[\"clouds\"][\"all\"])\n",
    "    city_dict[\"country\"].append(request[\"sys\"][\"country\"])\n",
    "    city_dict[\"date\"].append(request[\"dt\"])\n",
    "    city_dict[\"humidity\"].append(request[\"main\"][\"humidity\"])\n",
    "    city_dict[\"lat\"].append(request[\"coord\"][\"lat\"])\n",
    "    city_dict[\"lng\"].append(request[\"coord\"][\"lon\"])\n",
    "    city_dict[\"max_temp\"].append(request[\"main\"][\"temp_max\"])\n",
    "    city_dict[\"wind_speed\"].append(request[\"wind\"][\"speed\"])\n",
    " \n",
    "    \n",
    "    time.sleep(1)\n",
    "\n",
    "\n",
    "data_raw = pd.DataFrame(city_dict)\n",
    "data_raw.to_csv(\"output_data/cities.csv\", index=True, index_label=\"city_id\")\n",
    "\n",
    "print()\n",
    "print()\n",
    "print()\n",
    "print()\n",
    "print(\"The list of cities not found in the API is called 'cities_notlisted.'\")\n",
    "print(f\"The following are the cities in that list:\")\n",
    "print()\n",
    "\n",
    "for index, city in enumerate(cities_notlisted):\n",
    "    print(f\"{index + 1}: {city}\")"
   ]
  },
  {
   "cell_type": "markdown",
   "metadata": {},
   "source": [
    "### Convert Raw Data to DataFrame\n",
    "* Export the city data into a .csv.\n",
    "* Display the DataFrame"
   ]
  },
  {
   "cell_type": "code",
   "execution_count": 25,
   "metadata": {},
   "outputs": [
    {
     "data": {
      "text/plain": [
       "0      266.15\n",
       "1      296.15\n",
       "2      288.15\n",
       "3      268.15\n",
       "4      260.66\n",
       "        ...  \n",
       "577    288.95\n",
       "578    270.46\n",
       "579    297.15\n",
       "580    284.69\n",
       "581    280.79\n",
       "Name: Max Temp, Length: 582, dtype: float64"
      ]
     },
     "execution_count": 25,
     "metadata": {},
     "output_type": "execute_result"
    }
   ],
   "source": [
    "data_raw = pd.read_csv(\"output_data/cities.csv\")\n",
    "\n",
    "data_raw = data_raw.rename(columns={\n",
    "    \"city\": \"City\",\n",
    "    \"cloudiness\": \"Cloudiness\",\n",
    "    \"country\": \"Country\",\n",
    "    \"date\": \"Date\",\n",
    "    \"humidity\": \"Humidity\",\n",
    "    \"lat\": \"Latitude\",\n",
    "    \"lng\": \"Longitude\",\n",
    "    \"max_temp\": \"Max Temp\",\n",
    "    \"wind_speed\": \"Wind Speed\"\n",
    "})\n",
    "data_raw.head()"
   ]
  },
  {
   "cell_type": "code",
   "execution_count": 4,
   "metadata": {},
   "outputs": [
    {
     "data": {
      "text/html": [
       "<div>\n",
       "<style scoped>\n",
       "    .dataframe tbody tr th:only-of-type {\n",
       "        vertical-align: middle;\n",
       "    }\n",
       "\n",
       "    .dataframe tbody tr th {\n",
       "        vertical-align: top;\n",
       "    }\n",
       "\n",
       "    .dataframe thead th {\n",
       "        text-align: right;\n",
       "    }\n",
       "</style>\n",
       "<table border=\"1\" class=\"dataframe\">\n",
       "  <thead>\n",
       "    <tr style=\"text-align: right;\">\n",
       "      <th></th>\n",
       "      <th>city_id</th>\n",
       "      <th>Cloudiness</th>\n",
       "      <th>Date</th>\n",
       "      <th>Humidity</th>\n",
       "      <th>Latitude</th>\n",
       "      <th>Longitude</th>\n",
       "      <th>Max Temp</th>\n",
       "      <th>Wind Speed</th>\n",
       "    </tr>\n",
       "  </thead>\n",
       "  <tbody>\n",
       "    <tr>\n",
       "      <th>count</th>\n",
       "      <td>582.000000</td>\n",
       "      <td>582.000000</td>\n",
       "      <td>5.820000e+02</td>\n",
       "      <td>582.000000</td>\n",
       "      <td>582.000000</td>\n",
       "      <td>582.000000</td>\n",
       "      <td>582.000000</td>\n",
       "      <td>582.000000</td>\n",
       "    </tr>\n",
       "    <tr>\n",
       "      <th>mean</th>\n",
       "      <td>290.500000</td>\n",
       "      <td>56.226804</td>\n",
       "      <td>1.619035e+09</td>\n",
       "      <td>68.713058</td>\n",
       "      <td>20.391711</td>\n",
       "      <td>18.292838</td>\n",
       "      <td>288.975825</td>\n",
       "      <td>3.739089</td>\n",
       "    </tr>\n",
       "    <tr>\n",
       "      <th>std</th>\n",
       "      <td>168.153204</td>\n",
       "      <td>38.433304</td>\n",
       "      <td>2.530563e+02</td>\n",
       "      <td>23.048519</td>\n",
       "      <td>32.866398</td>\n",
       "      <td>90.727667</td>\n",
       "      <td>11.609709</td>\n",
       "      <td>2.513365</td>\n",
       "    </tr>\n",
       "    <tr>\n",
       "      <th>min</th>\n",
       "      <td>0.000000</td>\n",
       "      <td>0.000000</td>\n",
       "      <td>1.619035e+09</td>\n",
       "      <td>6.000000</td>\n",
       "      <td>-54.800000</td>\n",
       "      <td>-179.166700</td>\n",
       "      <td>248.870000</td>\n",
       "      <td>0.220000</td>\n",
       "    </tr>\n",
       "    <tr>\n",
       "      <th>25%</th>\n",
       "      <td>145.250000</td>\n",
       "      <td>20.000000</td>\n",
       "      <td>1.619035e+09</td>\n",
       "      <td>55.250000</td>\n",
       "      <td>-6.216700</td>\n",
       "      <td>-59.471350</td>\n",
       "      <td>281.480000</td>\n",
       "      <td>1.790000</td>\n",
       "    </tr>\n",
       "    <tr>\n",
       "      <th>50%</th>\n",
       "      <td>290.500000</td>\n",
       "      <td>70.000000</td>\n",
       "      <td>1.619035e+09</td>\n",
       "      <td>74.000000</td>\n",
       "      <td>24.915900</td>\n",
       "      <td>24.315050</td>\n",
       "      <td>291.150000</td>\n",
       "      <td>3.090000</td>\n",
       "    </tr>\n",
       "    <tr>\n",
       "      <th>75%</th>\n",
       "      <td>435.750000</td>\n",
       "      <td>95.000000</td>\n",
       "      <td>1.619036e+09</td>\n",
       "      <td>86.000000</td>\n",
       "      <td>47.522975</td>\n",
       "      <td>97.207050</td>\n",
       "      <td>298.645000</td>\n",
       "      <td>5.140000</td>\n",
       "    </tr>\n",
       "    <tr>\n",
       "      <th>max</th>\n",
       "      <td>581.000000</td>\n",
       "      <td>100.000000</td>\n",
       "      <td>1.619036e+09</td>\n",
       "      <td>100.000000</td>\n",
       "      <td>78.218600</td>\n",
       "      <td>179.316700</td>\n",
       "      <td>309.310000</td>\n",
       "      <td>13.380000</td>\n",
       "    </tr>\n",
       "  </tbody>\n",
       "</table>\n",
       "</div>"
      ],
      "text/plain": [
       "          city_id  Cloudiness          Date    Humidity    Latitude  \\\n",
       "count  582.000000  582.000000  5.820000e+02  582.000000  582.000000   \n",
       "mean   290.500000   56.226804  1.619035e+09   68.713058   20.391711   \n",
       "std    168.153204   38.433304  2.530563e+02   23.048519   32.866398   \n",
       "min      0.000000    0.000000  1.619035e+09    6.000000  -54.800000   \n",
       "25%    145.250000   20.000000  1.619035e+09   55.250000   -6.216700   \n",
       "50%    290.500000   70.000000  1.619035e+09   74.000000   24.915900   \n",
       "75%    435.750000   95.000000  1.619036e+09   86.000000   47.522975   \n",
       "max    581.000000  100.000000  1.619036e+09  100.000000   78.218600   \n",
       "\n",
       "        Longitude    Max Temp  Wind Speed  \n",
       "count  582.000000  582.000000  582.000000  \n",
       "mean    18.292838  288.975825    3.739089  \n",
       "std     90.727667   11.609709    2.513365  \n",
       "min   -179.166700  248.870000    0.220000  \n",
       "25%    -59.471350  281.480000    1.790000  \n",
       "50%     24.315050  291.150000    3.090000  \n",
       "75%     97.207050  298.645000    5.140000  \n",
       "max    179.316700  309.310000   13.380000  "
      ]
     },
     "execution_count": 4,
     "metadata": {},
     "output_type": "execute_result"
    }
   ],
   "source": [
    "data_raw.describe()"
   ]
  },
  {
   "cell_type": "markdown",
   "metadata": {},
   "source": [
    "## Inspect the data and remove the cities where the humidity > 100%.\n",
    "----\n",
    "Skip this step if there are no cities that have humidity > 100%. "
   ]
  },
  {
   "cell_type": "markdown",
   "metadata": {},
   "source": [
    "## Plotting the Data\n",
    "* Use proper labeling of the plots using plot titles (including date of analysis) and axes labels.\n",
    "* Save the plotted figures as .pngs."
   ]
  },
  {
   "cell_type": "markdown",
   "metadata": {},
   "source": [
    "## Latitude vs. Temperature Plot"
   ]
  },
  {
   "cell_type": "code",
   "execution_count": 5,
   "metadata": {
    "scrolled": true
   },
   "outputs": [],
   "source": [
    "def Scatterplots_def(x_field, y_field, PNGname):\n",
    "    \n",
    "    x_axis = data_raw[x_field]\n",
    "    y_axis = data_raw[y_field]\n",
    "    \n",
    "    date = time.strftime(\"%x\")\n",
    "    \n",
    "    plt.scatter(x_axis, y_axis, marker=\"o\", facecolors=\"blue\", edgecolors=\"black\")\n",
    "    \n",
    "    if y_field.lower() == \"max_temp\":\n",
    "        y_field = \"Max Temp (F)\"\n",
    "        plt.ylabel(y_field)\n",
    "        title_str = (\"City \" + x_field.capitalize() + \" vs. \" + y_field + \" (\" + date + \")\")\n",
    "    else:\n",
    "        plt.ylabel(y_field.capitalize())\n",
    "        title_str = \"City \" + x_field.capitalize() + \" vs. \" + y_field.capitalize() + \" (\" + date + \")\"\n",
    "        \n",
    "    if x_field.lower() == \"max_temp\":\n",
    "        x_field = \"Max Temp (F)\"\n",
    "        plt.xlabel(x_field)\n",
    "        title_str.replace(x_field.capitalize(), x_field)\n",
    "    else:\n",
    "        plt.xlabel(x_field.capitalize())\n",
    "        \n",
    "    plt.title(title_str)\n",
    "\n",
    "    \n",
    "    #Seting the limit of the x axis to being minus 2 of the minimum Weight, and plus 2 of the maximum Weight.\n",
    "    plt.xlim(min(x_axis)-  2, max(x_axis) + 2)\n",
    "    #Seting the limit of the y axis to being minus 3 of the minimum Tumor_Vol, and plus 3 of the maximum Tumor_Vol.\n",
    "    plt.ylim(min(y_axis) - 3, max(y_axis) + 3)\n",
    "    \n",
    "    #Saving the plot as a .png file in the 'output_data' folder with the filename declared in the 'PNGname' variable.\n",
    "    plt.savefig(\"output_data/\" + PNGname + \".png\")\n",
    "    plt.show()"
   ]
  },
  {
   "cell_type": "code",
   "execution_count": 20,
   "metadata": {},
   "outputs": [
    {
     "data": {
      "image/png": "[encoded data removed]",
      "text/plain": [
       "<Figure size 432x288 with 1 Axes>"
      ]
     },
     "metadata": {
      "needs_background": "light"
     },
     "output_type": "display_data"
    },
    {
     "name": "stdout",
     "output_type": "stream",
     "text": [
      "test below\n"
     ]
    }
   ],
   "source": [
    "# Setting two variables as the name of the column in the data_raw DataFrame.\n",
    "x_axis = \"Latitude\"\n",
    "y_axis = \"Max Temp\"\n",
    "\n",
    "# Calling our Scatterplots_def function and telling it to print the image as \"fig1\"\n",
    "Scatterplots_def(x_axis, y_axis, PNGname=\"fig1\")\n",
    "\n",
    "# Printing what can be seen from the graph.\n",
    "print(\"The Maximum Temperature where negative Latitude is closer to the south pole,\"\"\n",
    "print(\"and positive Latitude is closer to teh north pole.\")\n",
    "print()\n",
    "print(\"This image is showing a curve with a peak close to 0 Latitude.\")\n",
    "print(\"Latitude 0 is the equator, and the farther away the colder the temperature becomes.\")"
   ]
  },
  {
   "cell_type": "markdown",
   "metadata": {},
   "source": [
    "## Latitude vs. Humidity Plot"
   ]
  },
  {
   "cell_type": "code",
   "execution_count": 7,
   "metadata": {},
   "outputs": [
    {
     "data": {
      "image/png": "[encoded data removed]",
      "text/plain": [
       "<Figure size 432x288 with 1 Axes>"
      ]
     },
     "metadata": {
      "needs_background": "light"
     },
     "output_type": "display_data"
    }
   ],
   "source": [
    "# Setting two variables as the name of the column in the data_raw DataFrame.\n",
    "x_axis = \"Latitude\"\n",
    "y_axis = \"Humidity\"\n",
    "\n",
    "# Calling our Scatterplots_def function and telling it to print the image as \"fig2\"\n",
    "Scatterplots_def(x_axis, y_axis, PNGname=\"fig2\")\n",
    "\n",
    "# Printing what can be seen from the graph.\n",
    "print(\"The Humidity where negative Latitude is closer to the south pole,\"\"\n",
    "print(\"and positive Latitude is closer to teh north pole.\")\n",
    "print()\n",
    "print(\"High Humidity can be pretty much anywhere north and south.\")\n",
    "print(\"The lower Humidity tends to be a bit closer to the equator, but only on the north side.\")"
   ]
  },
  {
   "cell_type": "markdown",
   "metadata": {},
   "source": [
    "## Latitude vs. Cloudiness Plot"
   ]
  },
  {
   "cell_type": "code",
   "execution_count": 8,
   "metadata": {},
   "outputs": [
    {
     "data": {
      "image/png": "[encoded data removed]",
      "text/plain": [
       "<Figure size 432x288 with 1 Axes>"
      ]
     },
     "metadata": {
      "needs_background": "light"
     },
     "output_type": "display_data"
    }
   ],
   "source": [
    "# Setting two variables as the name of the column in the data_raw DataFrame.\n",
    "x_axis = \"Latitude\"\n",
    "y_axis = \"Cloudiness\"\n",
    "\n",
    "# Calling our Scatterplots_def function and telling it to print the image as \"fig3\"\n",
    "Scatterplots_def(x_axis, y_axis, PNGname=\"fig3\")\n",
    "\n",
    "# Printing what can be seen from the graph.\n",
    "print(\"The percent Cloudiness where negative Latitude is closer to the south pole,\"\"\n",
    "print(\"and positive Latitude is closer to teh north pole.\")\n",
    "print()\n",
    "print(\"North, south and close to the equator can have low and high Cloudiness.\")\n",
    "print(\"There are a lot of density at some rounded numbers, ie:  0, 20, 40, 75, and 100.\")\n",
    "print(\"This is due to human rounding by meteoroligist.\")"
   ]
  },
  {
   "cell_type": "markdown",
   "metadata": {},
   "source": [
    "## Latitude vs. Wind Speed Plot"
   ]
  },
  {
   "cell_type": "code",
   "execution_count": 9,
   "metadata": {},
   "outputs": [
    {
     "data": {
      "image/png": "[encoded data removed]",
      "text/plain": [
       "<Figure size 432x288 with 1 Axes>"
      ]
     },
     "metadata": {
      "needs_background": "light"
     },
     "output_type": "display_data"
    }
   ],
   "source": [
    "# Setting two variables as the name of the column in the data_raw DataFrame.\n",
    "x_axis = \"Latitude\"\n",
    "y_axis = \"Wind Speed\"\n",
    "\n",
    "# Calling our Scatterplots_def function and telling it to print the image as \"fig4\"\n",
    "Scatterplots_def(x_axis, y_axis, PNGname=\"fig4\")\n",
    "\n",
    "# Printing what can be seen from the graph.\n",
    "print(\"The Wind Speed where negative Latitude is closer to the south pole,\"\"\n",
    "print(\"and positive Latitude is closer to teh north pole.\")\n",
    "print()\n",
    "print(\"There appears to be no correlation between north and south when it comes to Wind Speed.\")"
   ]
  },
  {
   "cell_type": "markdown",
   "metadata": {},
   "source": [
    "## Linear Regression"
   ]
  },
  {
   "cell_type": "code",
   "execution_count": 10,
   "metadata": {},
   "outputs": [],
   "source": [
    "north_hem = data_raw.loc[(data_raw[\"Latitude\"] >= 0), :]\n",
    "south_hem = data_raw.loc[(data_raw[\"Latitude\"] < 0), :]\n",
    "\n",
    "def Scatterplots_north_def(x_field, y_field):\n",
    "    \n",
    "    x_axis = north_hem[x_field]\n",
    "    y_axis = north_hem[y_field]\n",
    "    \n",
    "    annotote_x = ((min(x_axis) + max(x_axis))/2)\n",
    "    annotote_y = min(y_axis) - (max(y_axis) - min(y_axis)) / 7\n",
    "    \n",
    "    lim_x = min(x_axis) - ((max(x_axis) - min(x_axis)) / 10), max(x_axis) + ((max(x_axis) - min(x_axis)) / 10)\n",
    "    lim_y = min(y_axis) - ((max(y_axis) - min(y_axis)) / 5), max(y_axis) + ((max(y_axis) - min(y_axis)) / 5)\n",
    "    \n",
    "    date = time.strftime(\"%x\")\n",
    "    \n",
    "    (slope, intercept, rvalue, pvalue, stderr) = linregress(x_axis, y_axis)\n",
    "    regress_values = x_axis * slope + intercept\n",
    "    line_eq = \"y = \" + str(round(slope,2)) + \"x + \" + str(round(intercept,2))\n",
    "    plt.scatter(x_axis,y_axis, marker=\"o\", facecolors=\"blue\", edgecolors=\"black\")\n",
    "    plt.plot(x_axis,regress_values,\"g-\")\n",
    "    plt.annotate(line_eq,(annotote_x, annotote_y), fontsize=15, color=\"red\")\n",
    "\n",
    "    \n",
    "    if y_field.lower() == \"max_temp\":\n",
    "        y_field = \"Max Temp (F)\"\n",
    "        plt.ylabel(y_field)\n",
    "        title_str = (\"City \" + x_field.capitalize() + \" vs. \" + y_field + \" (\" + date + \")\")\n",
    "    else:\n",
    "        plt.ylabel(y_field.capitalize())\n",
    "        title_str = \"City \" + x_field.capitalize() + \" vs. \" + y_field.capitalize() + \" (\" + date + \")\"\n",
    "        \n",
    "    if x_field.lower() == \"max_temp\":\n",
    "        x_field = \"Max Temp (F)\"\n",
    "        plt.xlabel(x_field)\n",
    "        title_str.replace(x_field.capitalize(), x_field)\n",
    "    else:\n",
    "        plt.xlabel(x_field.capitalize())\n",
    "        \n",
    "    plt.title(title_str)\n",
    "    \n",
    "    #Seting the limit of the x axis to being minus 2 of the minimum Weight, and plus 2 of the maximum Weight.\n",
    "    plt.xlim(lim_x)\n",
    "    #Seting the limit of the y axis to being minus 3 of the minimum Tumor_Vol, and plus 3 of the maximum Tumor_Vol.\n",
    "    plt.ylim(lim_y)\n",
    "\n",
    "    print(f\"The r-value is {rvalue}\")\n",
    "    \n",
    "    plt.show()\n",
    "    \n",
    "def Scatterplots_south_def(x_field, y_field):\n",
    "      \n",
    "    x_axis = south_hem[x_field]\n",
    "    y_axis = south_hem[y_field]\n",
    "    \n",
    "    annotote_x = ((min(x_axis) + max(x_axis))/2)\n",
    "    annotote_y = min(y_axis) - (max(y_axis) - min(y_axis)) / 7\n",
    "    \n",
    "    lim_x = min(x_axis) - ((max(x_axis) - min(x_axis)) / 10), max(x_axis) + ((max(x_axis) - min(x_axis)) / 10)\n",
    "    lim_y = min(y_axis) - ((max(y_axis) - min(y_axis)) / 5), max(y_axis) + ((max(y_axis) - min(y_axis)) / 5)\n",
    "    \n",
    "    date = time.strftime(\"%x\")\n",
    "    \n",
    "    (slope, intercept, rvalue, pvalue, stderr) = linregress(x_axis, y_axis)\n",
    "    regress_values = x_axis * slope + intercept\n",
    "    line_eq = \"y = \" + str(round(slope,2)) + \"x + \" + str(round(intercept,2))\n",
    "    plt.scatter(x_axis,y_axis, marker=\"o\", facecolors=\"blue\", edgecolors=\"black\")\n",
    "    plt.plot(x_axis,regress_values,\"g-\")\n",
    "    plt.annotate(line_eq,(annotote_x, annotote_y), fontsize=15, color=\"red\")\n",
    "\n",
    "    \n",
    "    if y_field.lower() == \"max_temp\":\n",
    "        y_field = \"Max Temp (F)\"\n",
    "        plt.ylabel(y_field)\n",
    "        title_str = (\"City \" + x_field.capitalize() + \" vs. \" + y_field + \" (\" + date + \")\")\n",
    "    else:\n",
    "        plt.ylabel(y_field.capitalize())\n",
    "        title_str = \"City \" + x_field.capitalize() + \" vs. \" + y_field.capitalize() + \" (\" + date + \")\"\n",
    "        \n",
    "    if x_field.lower() == \"max_temp\":\n",
    "        x_field = \"Max Temp (F)\"\n",
    "        plt.xlabel(x_field)\n",
    "        title_str.replace(x_field.capitalize(), x_field)\n",
    "    else:\n",
    "        plt.xlabel(x_field.capitalize())\n",
    "        \n",
    "    plt.title(title_str)\n",
    "    \n",
    "    #Seting the limit of the x axis to being minus 2 of the minimum Weight, and plus 2 of the maximum Weight.\n",
    "    plt.xlim(lim_x)\n",
    "    #Seting the limit of the y axis to being minus 3 of the minimum Tumor_Vol, and plus 3 of the maximum Tumor_Vol.\n",
    "    plt.ylim(lim_y)\n",
    "\n",
    "    print(f\"The r-value is {rvalue}\")\n",
    "    \n",
    "    plt.show()"
   ]
  },
  {
   "cell_type": "markdown",
   "metadata": {},
   "source": [
    "####  Northern Hemisphere - Max Temp vs. Latitude Linear Regression"
   ]
  },
  {
   "cell_type": "code",
   "execution_count": 11,
   "metadata": {},
   "outputs": [
    {
     "name": "stdout",
     "output_type": "stream",
     "text": [
      "The r-value is -0.8691324287694865\n"
     ]
    },
    {
     "data": {
      "image/png": "[encoded data removed]",
      "text/plain": [
       "<Figure size 432x288 with 1 Axes>"
      ]
     },
     "metadata": {
      "needs_background": "light"
     },
     "output_type": "display_data"
    }
   ],
   "source": [
    "x_axis = \"Latitude\"\n",
    "y_axis = \"Max Temp\"\n",
    "\n",
    "Scatterplots_north_def(x_axis, y_axis)"
   ]
  },
  {
   "cell_type": "markdown",
   "metadata": {},
   "source": [
    "####  Southern Hemisphere - Max Temp vs. Latitude Linear Regression"
   ]
  },
  {
   "cell_type": "code",
   "execution_count": 12,
   "metadata": {},
   "outputs": [
    {
     "name": "stdout",
     "output_type": "stream",
     "text": [
      "The r-value is 0.7361012297982475\n"
     ]
    },
    {
     "data": {
      "image/png": "[encoded data removed]",
      "text/plain": [
       "<Figure size 432x288 with 1 Axes>"
      ]
     },
     "metadata": {
      "needs_background": "light"
     },
     "output_type": "display_data"
    }
   ],
   "source": [
    "x_axis = \"Latitude\"\n",
    "y_axis = \"Max Temp\"\n",
    "\n",
    "Scatterplots_south_def(x_axis, y_axis)"
   ]
  },
  {
   "cell_type": "markdown",
   "metadata": {},
   "source": [
    "####  Northern Hemisphere - Humidity (%) vs. Latitude Linear Regression"
   ]
  },
  {
   "cell_type": "code",
   "execution_count": 13,
   "metadata": {},
   "outputs": [
    {
     "name": "stdout",
     "output_type": "stream",
     "text": [
      "The r-value is 0.15997499602479007\n"
     ]
    },
    {
     "data": {
      "image/png": "[encoded data removed]",
      "text/plain": [
       "<Figure size 432x288 with 1 Axes>"
      ]
     },
     "metadata": {
      "needs_background": "light"
     },
     "output_type": "display_data"
    }
   ],
   "source": [
    "x_axis = \"Latitude\"\n",
    "y_axis = \"Humidity\"\n",
    "\n",
    "Scatterplots_north_def(x_axis, y_axis)"
   ]
  },
  {
   "cell_type": "markdown",
   "metadata": {},
   "source": [
    "####  Southern Hemisphere - Humidity (%) vs. Latitude Linear Regression"
   ]
  },
  {
   "cell_type": "code",
   "execution_count": 14,
   "metadata": {},
   "outputs": [
    {
     "name": "stdout",
     "output_type": "stream",
     "text": [
      "The r-value is 0.1370673318035622\n"
     ]
    },
    {
     "data": {
      "image/png": "[encoded data removed]",
      "text/plain": [
       "<Figure size 432x288 with 1 Axes>"
      ]
     },
     "metadata": {
      "needs_background": "light"
     },
     "output_type": "display_data"
    }
   ],
   "source": [
    "x_axis = \"Latitude\"\n",
    "y_axis = \"Humidity\"\n",
    "\n",
    "Scatterplots_south_def(x_axis, y_axis)"
   ]
  },
  {
   "cell_type": "markdown",
   "metadata": {},
   "source": [
    "####  Northern Hemisphere - Cloudiness (%) vs. Latitude Linear Regression"
   ]
  },
  {
   "cell_type": "code",
   "execution_count": 15,
   "metadata": {},
   "outputs": [
    {
     "name": "stdout",
     "output_type": "stream",
     "text": [
      "The r-value is 0.1379882676749023\n"
     ]
    },
    {
     "data": {
      "image/png": "[encoded data removed]",
      "text/plain": [
       "<Figure size 432x288 with 1 Axes>"
      ]
     },
     "metadata": {
      "needs_background": "light"
     },
     "output_type": "display_data"
    }
   ],
   "source": [
    "x_axis = \"Latitude\"\n",
    "y_axis = \"Cloudiness\"\n",
    "\n",
    "Scatterplots_north_def(x_axis, y_axis)"
   ]
  },
  {
   "cell_type": "markdown",
   "metadata": {},
   "source": [
    "####  Southern Hemisphere - Cloudiness (%) vs. Latitude Linear Regression"
   ]
  },
  {
   "cell_type": "code",
   "execution_count": 16,
   "metadata": {},
   "outputs": [
    {
     "name": "stdout",
     "output_type": "stream",
     "text": [
      "The r-value is 0.1745698070421397\n"
     ]
    },
    {
     "data": {
      "image/png": "[encoded data removed]",
      "text/plain": [
       "<Figure size 432x288 with 1 Axes>"
      ]
     },
     "metadata": {
      "needs_background": "light"
     },
     "output_type": "display_data"
    }
   ],
   "source": [
    "x_axis = \"Latitude\"\n",
    "y_axis = \"Cloudiness\"\n",
    "\n",
    "Scatterplots_south_def(x_axis, y_axis)"
   ]
  },
  {
   "cell_type": "markdown",
   "metadata": {},
   "source": [
    "####  Northern Hemisphere - Wind Speed (mph) vs. Latitude Linear Regression"
   ]
  },
  {
   "cell_type": "code",
   "execution_count": 17,
   "metadata": {},
   "outputs": [
    {
     "name": "stdout",
     "output_type": "stream",
     "text": [
      "The r-value is 0.08406681008034783\n"
     ]
    },
    {
     "data": {
      "image/png": "[encoded data removed]",
      "text/plain": [
       "<Figure size 432x288 with 1 Axes>"
      ]
     },
     "metadata": {
      "needs_background": "light"
     },
     "output_type": "display_data"
    }
   ],
   "source": [
    "x_axis = \"Latitude\"\n",
    "y_axis = \"Wind Speed\"\n",
    "\n",
    "Scatterplots_north_def(x_axis, y_axis)"
   ]
  },
  {
   "cell_type": "markdown",
   "metadata": {},
   "source": [
    "####  Southern Hemisphere - Wind Speed (mph) vs. Latitude Linear Regression"
   ]
  },
  {
   "cell_type": "code",
   "execution_count": 18,
   "metadata": {},
   "outputs": [
    {
     "name": "stdout",
     "output_type": "stream",
     "text": [
      "The r-value is -0.1826987679898361\n"
     ]
    },
    {
     "data": {
      "image/png": "[encoded data removed]",
      "text/plain": [
       "<Figure size 432x288 with 1 Axes>"
      ]
     },
     "metadata": {
      "needs_background": "light"
     },
     "output_type": "display_data"
    }
   ],
   "source": [
    "x_axis = \"Latitude\"\n",
    "y_axis = \"Wind Speed\"\n",
    "\n",
    "Scatterplots_south_def(x_axis, y_axis)"
   ]
  },
  {
   "cell_type": "code",
   "execution_count": null,
   "metadata": {},
   "outputs": [],
   "source": []
  }
 ],
 "metadata": {
  "anaconda-cloud": {},
  "kernel_info": {
   "name": "python3"
  },
  "kernelspec": {
   "display_name": "Python [conda env:PythonData] *",
   "language": "python",
   "name": "conda-env-PythonData-py"
  },
  "language_info": {
   "codemirror_mode": {
    "name": "ipython",
    "version": 3
   },
   "file_extension": ".py",
   "mimetype": "text/x-python",
   "name": "python",
   "nbconvert_exporter": "python",
   "pygments_lexer": "ipython3",
   "version": "3.6.10"
  },
  "latex_envs": {
   "LaTeX_envs_menu_present": true,
   "autoclose": false,
   "autocomplete": true,
   "bibliofile": "biblio.bib",
   "cite_by": "apalike",
   "current_citInitial": 1,
   "eqLabelWithNumbers": true,
   "eqNumInitial": 1,
   "hotkeys": {
    "equation": "Ctrl-E",
    "itemize": "Ctrl-I"
   },
   "labels_anchors": false,
   "latex_user_defs": false,
   "report_style_numbering": false,
   "user_envs_cfg": false
  },
  "nteract": {
   "version": "0.12.3"
  }
 },
 "nbformat": 4,
 "nbformat_minor": 2
}
